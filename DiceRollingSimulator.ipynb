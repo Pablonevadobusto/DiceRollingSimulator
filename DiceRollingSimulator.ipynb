{
 "cells": [
  {
   "cell_type": "code",
   "execution_count": 1,
   "metadata": {},
   "outputs": [
    {
     "name": "stdout",
     "output_type": "stream",
     "text": [
      "6\n",
      "7\n",
      "5\n",
      "3\n",
      "8\n",
      "8\n",
      "3\n",
      "Bye\n"
     ]
    }
   ],
   "source": [
    "########################################################### Dice Rolling Simulator ###########################################################\n",
    "\n",
    "\n",
    "import random # I need to import the random module because I need to get random numbers from a range indicated after\n",
    "\n",
    "# Defining a function\n",
    "\n",
    "def rolling_dice(min_num, max_num):\n",
    "        \n",
    "    user = input(\"Do you want to roll a dice? (yes/no)\")\n",
    "    if user.lower() == \"yes\":   # Using lower() function to make any kind of 'yes' rsponse operational\n",
    "        side = random.randint(min_num, max_num)\n",
    "        print(side)\n",
    "        while True: \n",
    "            user = input(\"Do you want to roll it again? (yes/no)\")\n",
    "            if user.lower() == \"yes\":\n",
    "                side = random.randint(min_num, max_num)\n",
    "                print(side)\n",
    "            else: \n",
    "                print(\"Bye\")\n",
    "                break     # Breaking the loop\n",
    "    else:\n",
    "        print(\"Bye\")\n",
    "\n",
    "# Setting the min and max numbers up\n",
    "\n",
    "min_num = int(input(\"Please, set the minimum number: \"))\n",
    "max_num = int(input(\"Please, set the maximum number: \"))\n",
    "\n",
    "# Invoking the function\n",
    "rolling_dice(min_num, max_num)\n",
    "\n",
    "    \n",
    "    \n",
    "\n",
    "\n",
    "        \n",
    "\n"
   ]
  }
 ],
 "metadata": {
  "kernelspec": {
   "display_name": "Python 3",
   "language": "python",
   "name": "python3"
  },
  "language_info": {
   "codemirror_mode": {
    "name": "ipython",
    "version": 3
   },
   "file_extension": ".py",
   "mimetype": "text/x-python",
   "name": "python",
   "nbconvert_exporter": "python",
   "pygments_lexer": "ipython3",
   "version": "3.11.0 (main, Oct 24 2022, 18:26:48) [MSC v.1933 64 bit (AMD64)]"
  },
  "orig_nbformat": 4,
  "vscode": {
   "interpreter": {
    "hash": "ebfc0a8d552866b0d59eba665220a57de3bc06f3ac643b8bef38dd8f66781fdd"
   }
  }
 },
 "nbformat": 4,
 "nbformat_minor": 2
}
